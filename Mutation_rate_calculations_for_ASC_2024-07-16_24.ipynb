{
 "cells": [
  {
   "cell_type": "code",
   "execution_count": null,
   "id": "cb4139ed",
   "metadata": {},
   "outputs": [],
   "source": [
    "# Import Hail\n",
    "import hail as hl\n",
    "\n",
    "# Initialize Hail\n",
    "hl.init()\n",
    "\n",
    "# Import other things I may need\n",
    "import pprint as pp\n",
    "import pandas as pd\n",
    "import numpy as np"
   ]
  },
  {
   "cell_type": "code",
   "execution_count": null,
   "id": "7f67d584",
   "metadata": {},
   "outputs": [],
   "source": [
    "# Can we calculate a mutation rate per variant type per gene?"
   ]
  },
  {
   "cell_type": "code",
   "execution_count": null,
   "id": "efa21b89",
   "metadata": {},
   "outputs": [],
   "source": [
    "# Let's look at mutation rate context table first\n",
    "mut = hl.read_table('gs://my_bucket/Mutation_rates/gnomad.v4.1.mutation_rate.ht')\n",
    "\n",
    "mut.count() # 104"
   ]
  },
  {
   "cell_type": "code",
   "execution_count": null,
   "id": "4c920227",
   "metadata": {},
   "outputs": [],
   "source": [
    "# Need to add reverse complements to be able to annotate all sequence contexts\n",
    "mut.show(104)"
   ]
  },
  {
   "cell_type": "code",
   "execution_count": null,
   "id": "ab39f7ed",
   "metadata": {},
   "outputs": [],
   "source": [
    "mut.describe()"
   ]
  },
  {
   "cell_type": "code",
   "execution_count": null,
   "id": "b61d8da2",
   "metadata": {},
   "outputs": [],
   "source": [
    "# So let's make reverse complement\n",
    "rev = mut.key_by('methylation_level')\n",
    "rev = rev.annotate(context = hl.reverse_complement(rev.context),\n",
    "                   ref = hl.reverse_complement(rev.ref),\n",
    "                   alt = hl.reverse_complement(rev.alt))\n",
    "rev = rev.key_by('context', 'ref', 'alt', 'methylation_level')"
   ]
  },
  {
   "cell_type": "code",
   "execution_count": null,
   "id": "0d2779b4",
   "metadata": {},
   "outputs": [],
   "source": [
    "mut = mut.union(rev)\n",
    "\n",
    "mut.count()"
   ]
  },
  {
   "cell_type": "code",
   "execution_count": null,
   "id": "587fbddc",
   "metadata": {},
   "outputs": [],
   "source": [
    "mut = mut.drop('variant_count', 'downsampling_counts_global', 'possible_variants', \n",
    "               'downsamplings_frac_observed', 'downsamplings_mu_snp')"
   ]
  },
  {
   "cell_type": "code",
   "execution_count": null,
   "id": "ef221968",
   "metadata": {
    "scrolled": true
   },
   "outputs": [],
   "source": [
    "mut.show(208)"
   ]
  },
  {
   "cell_type": "code",
   "execution_count": null,
   "id": "69b10129",
   "metadata": {},
   "outputs": [],
   "source": [
    "mut.write('gs://my_bucket/Mutation_rates/gnomad.v4.1.mutation_rate_with_rev_comp_2024-07-17.ht')\n",
    "# Wrote table with 208 rows in 2 partitions\n",
    "# to gs://my_bucket/Mutation_rates/gnomad.v4.1.mutation_rate_with_rev_comp_2024-07-17.ht"
   ]
  },
  {
   "cell_type": "code",
   "execution_count": null,
   "id": "b0702afd",
   "metadata": {},
   "outputs": [],
   "source": [
    "# Because I may need it below, what is the minimum mu_snp value?\n",
    "mut.aggregate(hl.agg.min(mut.mu_snp))\n",
    "\n",
    "# 9.114551589132187e-10"
   ]
  },
  {
   "cell_type": "code",
   "execution_count": null,
   "id": "810dbb24",
   "metadata": {},
   "outputs": [],
   "source": [
    "#####"
   ]
  },
  {
   "cell_type": "code",
   "execution_count": null,
   "id": "8b9913fb",
   "metadata": {},
   "outputs": [],
   "source": [
    "#####\n",
    "##### OK, now let's annotate all exonic SNVs with corresponding mutation rates\n",
    "#####"
   ]
  },
  {
   "cell_type": "code",
   "execution_count": null,
   "id": "7b732312",
   "metadata": {},
   "outputs": [],
   "source": [
    "#####"
   ]
  },
  {
   "cell_type": "code",
   "execution_count": null,
   "id": "4106b919",
   "metadata": {},
   "outputs": [],
   "source": [
    "# Read table with all GRCh38 SNVs\n",
    "ht = hl.read_table('gs://gcp-public-data--gnomad/resources/context/grch38_context_vep_annotated.ht')\n",
    "\n",
    "ht.count() # 8,771,197,662"
   ]
  },
  {
   "cell_type": "code",
   "execution_count": null,
   "id": "28948b1c",
   "metadata": {},
   "outputs": [],
   "source": [
    "ht.n_partitions() # 38029"
   ]
  },
  {
   "cell_type": "code",
   "execution_count": null,
   "id": "24a620db",
   "metadata": {},
   "outputs": [],
   "source": [
    "ht.show()"
   ]
  },
  {
   "cell_type": "code",
   "execution_count": null,
   "id": "ebb06ec0",
   "metadata": {},
   "outputs": [],
   "source": [
    "# Define my VEP-based annotations\n",
    "def add_vep_annotations(mt):\n",
    "    \n",
    "    # First, annotate based on parsing VEP output\n",
    "    mt = mt.annotate(\n",
    "        gene = hl.coalesce(\n",
    "            mt.vep.transcript_consequences.find(lambda x: (x.canonical == 1) & (x.biotype == \"protein_coding\") & (hl.is_defined(x.amino_acids)) ).gene_symbol,\n",
    "            mt.vep.transcript_consequences.find(lambda x: (x.canonical == 1) & (x.biotype == \"protein_coding\") ).gene_symbol,\n",
    "            mt.vep.transcript_consequences.find(lambda x: (x.canonical == 1) ).gene_symbol,\n",
    "            mt.vep.transcript_consequences.find(lambda x: x.consequence_terms.contains(mt.vep.most_severe_consequence)).gene_symbol),\n",
    "        gene_id = hl.coalesce(\n",
    "            mt.vep.transcript_consequences.find(lambda x: (x.canonical == 1) & (x.biotype == \"protein_coding\") & (hl.is_defined(x.amino_acids)) ).gene_id,\n",
    "            mt.vep.transcript_consequences.find(lambda x: (x.canonical == 1) & (x.biotype == \"protein_coding\") ).gene_id,\n",
    "            mt.vep.transcript_consequences.find(lambda x: (x.canonical == 1) ).gene_id,\n",
    "            mt.vep.transcript_consequences.find(lambda x: x.consequence_terms.contains(mt.vep.most_severe_consequence)).gene_id),\n",
    "        transcript_id = hl.coalesce(\n",
    "            mt.vep.transcript_consequences.find(lambda x: (x.canonical == 1) & (x.biotype == \"protein_coding\") & (hl.is_defined(x.amino_acids)) ).transcript_id,\n",
    "            mt.vep.transcript_consequences.find(lambda x: (x.canonical == 1) & (x.biotype == \"protein_coding\") ).transcript_id,\n",
    "            mt.vep.transcript_consequences.find(lambda x: (x.canonical == 1) ).transcript_id,\n",
    "            mt.vep.transcript_consequences.find(lambda x: x.consequence_terms.contains(mt.vep.most_severe_consequence)).transcript_id),\n",
    "        hgnc_id = hl.coalesce(\n",
    "            mt.vep.transcript_consequences.find(lambda x: (x.canonical == 1) & (x.biotype == \"protein_coding\") & (hl.is_defined(x.amino_acids)) ).hgnc_id,\n",
    "            mt.vep.transcript_consequences.find(lambda x: (x.canonical == 1) & (x.biotype == \"protein_coding\") ).hgnc_id,\n",
    "            mt.vep.transcript_consequences.find(lambda x: (x.canonical == 1) ).hgnc_id,\n",
    "            mt.vep.transcript_consequences.find(lambda x: x.consequence_terms.contains(mt.vep.most_severe_consequence)).hgnc_id),\n",
    "        hgvsc = hl.coalesce(\n",
    "            mt.vep.transcript_consequences.find(lambda x: (x.canonical == 1) & (x.biotype == \"protein_coding\") & (hl.is_defined(x.amino_acids)) ).hgvsc,\n",
    "            mt.vep.transcript_consequences.find(lambda x: (x.canonical == 1) & (x.biotype == \"protein_coding\") ).hgvsc,\n",
    "            mt.vep.transcript_consequences.find(lambda x: (x.canonical == 1) ).hgvsc,\n",
    "            mt.vep.transcript_consequences.find(lambda x: x.consequence_terms.contains(mt.vep.most_severe_consequence)).hgvsc),\n",
    "        hgvsp = hl.coalesce(\n",
    "            mt.vep.transcript_consequences.find(lambda x: (x.canonical == 1) & (x.biotype == \"protein_coding\") & (hl.is_defined(x.amino_acids)) ).hgvsp,\n",
    "            mt.vep.transcript_consequences.find(lambda x: (x.canonical == 1) & (x.biotype == \"protein_coding\") ).hgvsp,\n",
    "            mt.vep.transcript_consequences.find(lambda x: (x.canonical == 1) ).hgvsp,\n",
    "            mt.vep.transcript_consequences.find(lambda x: x.consequence_terms.contains(mt.vep.most_severe_consequence)).hgvsp),\n",
    "        consequence = hl.coalesce(\n",
    "            mt.vep.transcript_consequences.find(lambda x: (x.canonical == 1) & (x.biotype == \"protein_coding\") & (hl.is_defined(x.amino_acids)) ).consequence_terms,\n",
    "            mt.vep.transcript_consequences.find(lambda x: (x.canonical == 1) & (x.biotype == \"protein_coding\") ).consequence_terms,\n",
    "            mt.vep.transcript_consequences.find(lambda x: (x.canonical == 1) ).consequence_terms,\n",
    "            mt.vep.transcript_consequences.find(lambda x: x.consequence_terms.contains(mt.vep.most_severe_consequence)).consequence_terms),\n",
    "        lof = hl.coalesce(\n",
    "            mt.vep.transcript_consequences.find(lambda x: (x.canonical == 1) & (x.biotype == \"protein_coding\") & (hl.is_defined(x.amino_acids)) ).lof,\n",
    "            mt.vep.transcript_consequences.find(lambda x: (x.canonical == 1) & (x.biotype == \"protein_coding\") ).lof,\n",
    "            mt.vep.transcript_consequences.find(lambda x: (x.canonical == 1) ).lof,\n",
    "            mt.vep.transcript_consequences.find(lambda x: x.consequence_terms.contains(mt.vep.most_severe_consequence)).lof),\n",
    "        lof_flags = hl.coalesce(\n",
    "            mt.vep.transcript_consequences.find(lambda x: (x.canonical == 1) & (x.biotype == \"protein_coding\") & (hl.is_defined(x.amino_acids)) ).lof_flags,\n",
    "            mt.vep.transcript_consequences.find(lambda x: (x.canonical == 1) & (x.biotype == \"protein_coding\") ).lof_flags,\n",
    "            mt.vep.transcript_consequences.find(lambda x: (x.canonical == 1) ).lof_flags,\n",
    "            mt.vep.transcript_consequences.find(lambda x: x.consequence_terms.contains(mt.vep.most_severe_consequence)).lof_flags),\n",
    "        polyphen = hl.coalesce(\n",
    "            mt.vep.transcript_consequences.find(lambda x: (x.canonical == 1) & (x.biotype == \"protein_coding\") & (hl.is_defined(x.amino_acids)) ).polyphen_prediction,\n",
    "            mt.vep.transcript_consequences.find(lambda x: (x.canonical == 1) & (x.biotype == \"protein_coding\") ).polyphen_prediction,\n",
    "            mt.vep.transcript_consequences.find(lambda x: (x.canonical == 1) ).polyphen_prediction,\n",
    "            mt.vep.transcript_consequences.find(lambda x: x.consequence_terms.contains(mt.vep.most_severe_consequence)).polyphen_prediction),\n",
    "        sift = hl.coalesce(\n",
    "            mt.vep.transcript_consequences.find(lambda x: (x.canonical == 1) & (x.biotype == \"protein_coding\") & (hl.is_defined(x.amino_acids)) ).sift_prediction,\n",
    "            mt.vep.transcript_consequences.find(lambda x: (x.canonical == 1) & (x.biotype == \"protein_coding\") ).sift_prediction,\n",
    "            mt.vep.transcript_consequences.find(lambda x: (x.canonical == 1) ).sift_prediction,\n",
    "            mt.vep.transcript_consequences.find(lambda x: x.consequence_terms.contains(mt.vep.most_severe_consequence)).sift_prediction) )\n",
    "\n",
    "    # Now, annotate based on the \"consequence\" annotation\n",
    "    mt = mt.annotate(\n",
    "        isPTV = mt.consequence.contains('frameshift_variant') | mt.consequence.contains('stop_gained') |\n",
    "                mt.consequence.contains('splice_donor_variant') | mt.consequence.contains('splice_acceptor_variant') |\n",
    "                mt.consequence.contains('transcript_ablation'),\n",
    "        isMIS = mt.consequence.contains('missense_variant'),\n",
    "        isSYN = mt.consequence.contains('synonymous_variant') | mt.consequence.contains('stop_retained_variant'),\n",
    "        isSRG = mt.consequence.contains('splice_region_variant'),\n",
    "        isSSL = mt.consequence.contains('start_lost') | mt.consequence.contains('stop_lost'),\n",
    "        isINF = mt.consequence.contains('inframe_insertion') | mt.consequence.contains('inframe_deletion') )\n",
    "    \n",
    "    # And variants have an interesting \"most severe\" consequence (SII = \"severe is interesting\")\n",
    "    mt = mt.annotate(\n",
    "        SII = (mt.vep.most_severe_consequence == 'frameshift_variant') | (mt.vep.most_severe_consequence == 'stop_gained') |\n",
    "              (mt.vep.most_severe_consequence == 'splice_donor_variant') | (mt.vep.most_severe_consequence ==  'splice_acceptor_variant') |\n",
    "              (mt.vep.most_severe_consequence == 'transcript_ablation') | (mt.vep.most_severe_consequence == 'missense_variant') |\n",
    "              (mt.vep.most_severe_consequence == 'synonymous_variant') | (mt.vep.most_severe_consequence == 'stop_retained_variant') |\n",
    "              (mt.vep.most_severe_consequence == 'splice_region_variant') | (mt.vep.most_severe_consequence == 'start_lost') | \n",
    "              (mt.vep.most_severe_consequence == 'stop_lost') | (mt.vep.most_severe_consequence == 'inframe_insertion') | \n",
    "              (mt.vep.most_severe_consequence == 'inframe_deletion') )\n",
    "    \n",
    "    # Additionally annotate SNV vs indel\n",
    "    mt = mt.annotate(isSNV = hl.is_snp(mt.alleles[0], mt.alleles[1]),\n",
    "                     isIndel = hl.is_indel(mt.alleles[0], mt.alleles[1]))\n",
    "    \n",
    "    return(mt)"
   ]
  },
  {
   "cell_type": "code",
   "execution_count": null,
   "id": "524bc57c",
   "metadata": {},
   "outputs": [],
   "source": [
    "# Get Broad evaluation regions\n",
    "evaluation_regions = hl.import_locus_intervals('gs://gcp-public-data--broad-references/hg38/v0/exome_evaluation_regions.v1.interval_list', \n",
    "                                            reference_genome = 'GRCh38')\n",
    "\n",
    "# I made this one in R from the original evaluation regions file;\n",
    "# it adds 2 bp to the intervals (and merges the ones that then overlap)\n",
    "evaluation_regions_pm2 = hl.import_locus_intervals('gs://spark_reprocessing/eval_reg_GRCh38_pm2_2020-02-24.txt', \n",
    "                                            reference_genome = 'GRCh38')"
   ]
  },
  {
   "cell_type": "code",
   "execution_count": null,
   "id": "5955453d",
   "metadata": {},
   "outputs": [],
   "source": [
    "# Add VEP annotations\n",
    "ht = add_vep_annotations(ht)\n",
    "\n",
    "# Add evaluation region annotations\n",
    "ht = ht.annotate(eval_reg = hl.is_defined(evaluation_regions[ht.locus]),\n",
    "                 eval_reg_pm2 = hl.is_defined(evaluation_regions_pm2[ht.locus]))\n",
    "\n",
    "# Filter based on annotations, keeping coding variants and variants within 2bp of evaluation regions\n",
    "ht = ht.filter(ht.isPTV | ht.isMIS | ht.isSYN | ht.isSRG | ht.isSSL | ht.isINF | \n",
    "               ht.SII | ht.eval_reg_pm2, keep = True)\n",
    "\n",
    "# Write temp file\n",
    "ht.write('gs://my_bucket/Mutation_rates/Imported/grch38_context_vep_filter_temp1.ht')\n",
    "# Wrote table with 122118570 rows in 38029 partitions\n",
    "# to gs://my_bucket/Mutation_rates/Imported/grch38_context_vep_filter_temp1.ht"
   ]
  },
  {
   "cell_type": "code",
   "execution_count": null,
   "id": "846194df",
   "metadata": {},
   "outputs": [],
   "source": [
    "# Read back\n",
    "ht = hl.read_table('gs://my_bucket/Mutation_rates/Imported/grch38_context_vep_filter_temp1.ht')\n",
    "\n",
    "ht.count() # 122,118,570"
   ]
  },
  {
   "cell_type": "code",
   "execution_count": null,
   "id": "8ddbcdf9",
   "metadata": {},
   "outputs": [],
   "source": [
    "# Repartition\n",
    "ht = ht.repartition(5000)\n",
    "ht.write('gs://my_bucket/Mutation_rates/Imported/grch38_context_vep_filter_temp2.ht')\n",
    "# Wrote table with 122118570 rows in 5000 partitions\n",
    "# to gs://my_bucket/Mutation_rates/Imported/grch38_context_vep_filter_temp2.ht"
   ]
  },
  {
   "cell_type": "code",
   "execution_count": null,
   "id": "00088b1d",
   "metadata": {},
   "outputs": [],
   "source": [
    "# Read back\n",
    "ht = hl.read_table('gs://my_bucket/Mutation_rates/Imported/grch38_context_vep_filter_temp2.ht')\n",
    "\n",
    "ht.count() # 122,118,570"
   ]
  },
  {
   "cell_type": "code",
   "execution_count": null,
   "id": "b5bd0aa7",
   "metadata": {},
   "outputs": [],
   "source": [
    "# Repartition again\n",
    "ht = ht.repartition(500)\n",
    "ht.write('gs://my_bucket/Mutation_rates/Imported/grch38_context_vep_filter_temp3.ht')\n",
    "# Wrote table with 122118570 rows in 500 partitions\n",
    "# to gs://my_bucket/Mutation_rates/Imported/grch38_context_vep_filter_temp3.ht"
   ]
  },
  {
   "cell_type": "code",
   "execution_count": null,
   "id": "329bd397",
   "metadata": {},
   "outputs": [],
   "source": [
    "# Read back\n",
    "ht = hl.read_table('gs://my_bucket/Mutation_rates/Imported/grch38_context_vep_filter_temp3.ht')\n",
    "\n",
    "ht.count() # 122,118,570"
   ]
  },
  {
   "cell_type": "code",
   "execution_count": null,
   "id": "b9bf5100",
   "metadata": {},
   "outputs": [],
   "source": [
    "ht = ht.annotate(extended_context = ht.context)\n",
    "ht = ht.annotate(context = ht.context[2:5],\n",
    "                 ref = ht.alleles[0],\n",
    "                 alt = ht.alleles[1])"
   ]
  },
  {
   "cell_type": "code",
   "execution_count": null,
   "id": "37dfd507",
   "metadata": {},
   "outputs": [],
   "source": [
    "ht.write('gs://my_bucket/Mutation_rates/Imported/grch38_context_vep_filter_temp4.ht')\n",
    "# Wrote table with 122118570 rows in 500 partitions\n",
    "# to gs://my_bucket/Mutation_rates/Imported/grch38_context_vep_filter_temp4.ht"
   ]
  },
  {
   "cell_type": "code",
   "execution_count": null,
   "id": "72be630e",
   "metadata": {},
   "outputs": [],
   "source": [
    "# Read back\n",
    "ht = hl.read_table('gs://my_bucket/Mutation_rates/Imported/grch38_context_vep_filter_temp4.ht')\n",
    "\n",
    "ht.count() # 122,118,570"
   ]
  },
  {
   "cell_type": "code",
   "execution_count": null,
   "id": "12c68124",
   "metadata": {},
   "outputs": [],
   "source": [
    "# All chromosomes here\n",
    "ht.aggregate(hl.agg.counter(ht.locus.contig))\n",
    "# 'chr1': 12290559, 'chr2': 9019455, 'chr3': 6977073, 'chr4': 4865523, 'chr5': 5554191, \n",
    "# 'chr6': 6087294, 'chr7': 5821947, 'chr8': 4185909, 'chr9': 4899348,  'chr10': 4732386, \n",
    "# 'chr11': 7129248, 'chr12': 6390330, 'chr13': 2230638, 'chr14': 3987861, 'chr15': 4287987, \n",
    "# 'chr16': 5249175, 'chr17': 6990120, 'chr18': 1959360, 'chr19': 7891197, 'chr20': 2881923, \n",
    "# 'chr21': 1253712, 'chr22': 2588835, 'chrX': 4503960, 'chrY': 306537, 'chrM': 34002                              "
   ]
  },
  {
   "cell_type": "code",
   "execution_count": null,
   "id": "5cb6a629",
   "metadata": {},
   "outputs": [],
   "source": [
    "ht.show()"
   ]
  },
  {
   "cell_type": "code",
   "execution_count": null,
   "id": "ade1e92e",
   "metadata": {},
   "outputs": [],
   "source": [
    "ht.filter(hl.is_defined(ht.methyl_mean)).count()\n",
    "# 7,262,943"
   ]
  },
  {
   "cell_type": "code",
   "execution_count": null,
   "id": "32471d09",
   "metadata": {},
   "outputs": [],
   "source": [
    "7262943 / ht.count() # Only about 5.9% of variants have a methyl_mean value"
   ]
  },
  {
   "cell_type": "code",
   "execution_count": null,
   "id": "e894e72e",
   "metadata": {},
   "outputs": [],
   "source": [
    "# Are they all CpG sites?\n",
    "ht.filter(hl.is_defined(ht.methyl_mean) & ( \n",
    "    (ht.context == 'ACG') | (ht.context == 'CCG') | (ht.context == 'GCG') | (ht.context == 'TCG') |\n",
    "    (ht.context == 'CGT') | (ht.context == 'CGG') | (ht.context == 'CGC') | (ht.context == 'CGA'))).count()\n",
    "# 7262943 -- OK, this makes sense"
   ]
  },
  {
   "cell_type": "code",
   "execution_count": null,
   "id": "ad40028c",
   "metadata": {},
   "outputs": [],
   "source": [
    "# Can we use the methylation info in the file already?\n",
    "ht = ht.annotate(methyl_mean = hl.float(ht.methyl_mean))"
   ]
  },
  {
   "cell_type": "code",
   "execution_count": null,
   "id": "f0e5d018",
   "metadata": {},
   "outputs": [],
   "source": [
    "# These are clearly not on the 0-15 scale\n",
    "ht.aggregate(hl.agg.stats(ht.methyl_mean))\n",
    "# Struct(mean=62.38647712406255, stdev=37.62468633363724, min=0.0, \n",
    "# max=99.7460317460317, n=7262943, sum=453109427.32287025)"
   ]
  },
  {
   "cell_type": "code",
   "execution_count": null,
   "id": "33d16424",
   "metadata": {},
   "outputs": [],
   "source": [
    "# So let's get methylation annotations"
   ]
  },
  {
   "cell_type": "code",
   "execution_count": null,
   "id": "3c1940fe",
   "metadata": {},
   "outputs": [],
   "source": [
    "# Here are methylation levels for the autosome...\n",
    "#\n",
    "# This is generated in Siwei Chen's whole genome constraint paper:\n",
    "# https://www.nature.com/articles/s41586-023-06045-0\n",
    "methyl = hl.import_bed('gs://my_bucket/Mutation_rates/context_prepared_methyl14_weighted_logit.methyl_level.bed',\n",
    "                       reference_genome = 'GRCh38')"
   ]
  },
  {
   "cell_type": "code",
   "execution_count": null,
   "id": "32a07852",
   "metadata": {},
   "outputs": [],
   "source": [
    "ht = ht.annotate(methyl_level = hl.int(methyl[ht.locus].target))"
   ]
  },
  {
   "cell_type": "code",
   "execution_count": null,
   "id": "37241738",
   "metadata": {},
   "outputs": [],
   "source": [
    "ht.write('gs://my_bucket/Mutation_rates/Imported/grch38_context_vep_filter_temp5.ht')\n",
    "# Wrote table with 122118570 rows in 500 partitions\n",
    "# to gs://my_bucket/Mutation_rates/Imported/grch38_context_vep_filter_temp5.ht"
   ]
  },
  {
   "cell_type": "code",
   "execution_count": null,
   "id": "c41a23a0",
   "metadata": {},
   "outputs": [],
   "source": [
    "ht = hl.read_table('gs://my_bucket/Mutation_rates/Imported/grch38_context_vep_filter_temp5.ht')\n",
    "\n",
    "ht.count() # 122,118,570"
   ]
  },
  {
   "cell_type": "code",
   "execution_count": null,
   "id": "9e0da901",
   "metadata": {},
   "outputs": [],
   "source": [
    "# We have the levels now\n",
    "ht.aggregate(hl.agg.counter(ht.methyl_level))"
   ]
  },
  {
   "cell_type": "code",
   "execution_count": null,
   "id": "ff7142ff",
   "metadata": {},
   "outputs": [],
   "source": [
    "122118570-115106319 # 7012251"
   ]
  },
  {
   "cell_type": "code",
   "execution_count": null,
   "id": "272c57d1",
   "metadata": {},
   "outputs": [],
   "source": [
    "# 96.5% of CpG sites in the dataset get one of these values\n",
    "7012251/7262943"
   ]
  },
  {
   "cell_type": "code",
   "execution_count": null,
   "id": "6631be84",
   "metadata": {},
   "outputs": [],
   "source": [
    "# But we didn't get any of chromosome X\n",
    "ht.filter(hl.is_defined(ht.methyl_level) & (ht.locus.contig == 'chrX'), keep = True).count() # 0"
   ]
  },
  {
   "cell_type": "code",
   "execution_count": null,
   "id": "f580d753",
   "metadata": {},
   "outputs": [],
   "source": [
    "# So let's get chromosome X"
   ]
  },
  {
   "cell_type": "code",
   "execution_count": null,
   "id": "a715625b",
   "metadata": {},
   "outputs": [],
   "source": [
    "methyl = hl.import_bed('gs://my_bucket/Mutation_rates/context_prepared_methyl12_weighted_logit_x.methyl_level.bed',\n",
    "                       reference_genome = 'GRCh38')"
   ]
  },
  {
   "cell_type": "code",
   "execution_count": null,
   "id": "c6e661df",
   "metadata": {},
   "outputs": [],
   "source": [
    "ht = ht.annotate(methyl_level = hl.if_else(hl.is_defined(ht.methyl_level), ht.methyl_level,\n",
    "                                                         hl.int(methyl[ht.locus].target)))"
   ]
  },
  {
   "cell_type": "code",
   "execution_count": null,
   "id": "0875a451",
   "metadata": {},
   "outputs": [],
   "source": [
    "ht.write('gs://my_bucket/Mutation_rates/Imported/grch38_context_vep_filter_temp6.ht')\n",
    "# Wrote table with 122118570 rows in 500 partitions\n",
    "# to gs://my_bucket/Mutation_rates/Imported/grch38_context_vep_filter_temp6.ht"
   ]
  },
  {
   "cell_type": "code",
   "execution_count": null,
   "id": "2731fa84",
   "metadata": {},
   "outputs": [],
   "source": [
    "ht = hl.read_table('gs://my_bucket/Mutation_rates/Imported/grch38_context_vep_filter_temp6.ht')\n",
    "\n",
    "ht.count() # 122,118,570"
   ]
  },
  {
   "cell_type": "code",
   "execution_count": null,
   "id": "4a27548b",
   "metadata": {},
   "outputs": [],
   "source": [
    "# We have more levels now\n",
    "ht.aggregate(hl.agg.counter(ht.methyl_level))"
   ]
  },
  {
   "cell_type": "code",
   "execution_count": null,
   "id": "eff0e296",
   "metadata": {},
   "outputs": [],
   "source": [
    "122118570-114895665 # 7222905"
   ]
  },
  {
   "cell_type": "code",
   "execution_count": null,
   "id": "d51246bc",
   "metadata": {},
   "outputs": [],
   "source": [
    "# 99.4% of CpG sites in the dataset get one of these values now\n",
    "7222905/7262943"
   ]
  },
  {
   "cell_type": "code",
   "execution_count": null,
   "id": "c7742184",
   "metadata": {},
   "outputs": [],
   "source": [
    "# And we do now have some on chrX\n",
    "ht.filter(hl.is_defined(ht.methyl_level) & (ht.locus.contig == 'chrX'), keep = True).count() # 210654"
   ]
  },
  {
   "cell_type": "code",
   "execution_count": null,
   "id": "f56f8f9c",
   "metadata": {},
   "outputs": [],
   "source": [
    "7222905-210654 # 7012251 -- what we had before, so all gains were on chrX"
   ]
  },
  {
   "cell_type": "code",
   "execution_count": null,
   "id": "6d1aa932",
   "metadata": {},
   "outputs": [],
   "source": [
    "ht = ht.annotate(isCPG = ( ( (ht.context == 'ACG') | (ht.context == 'CCG') | \n",
    "                             (ht.context == 'GCG') | (ht.context == 'TCG') ) & (ht.alt == 'T') ) |\n",
    "                         ( ( (ht.context == 'CGA') | (ht.context == 'CGC') | \n",
    "                             (ht.context == 'CGG') | (ht.context == 'CGT') ) & (ht.alt == 'A') ) )"
   ]
  },
  {
   "cell_type": "code",
   "execution_count": null,
   "id": "c2111c07",
   "metadata": {},
   "outputs": [],
   "source": [
    "# Translate this to levels used in the mutation rate file\n",
    "# (via https://github.com/broadinstitute/gnomad-constraint/blob/c96a574e644d2f2d0f553812168c2efb5f11ce65/gnomad_constraint/utils/constraint.py#L138)\n",
    "# Note that the github document didn't specifically deal with chrY or chrM, so I have lumped them with chrX here\n",
    "ht = ht.annotate(methylation_level = hl.case()\n",
    "                                      .when(hl.is_missing(ht.methyl_level), 0)\n",
    "                                      .when(ht.isCPG & (\n",
    "                                            ( ht.locus.in_autosome() & (ht.methyl_level > 5) ) |\n",
    "                                            (~ht.locus.in_autosome() & (ht.methyl_level > 3) ) ), 2)\n",
    "                                      .when(ht.isCPG & (ht.methyl_level > 0), 1)\n",
    "                                      .default(0))"
   ]
  },
  {
   "cell_type": "code",
   "execution_count": null,
   "id": "18c9aea9",
   "metadata": {},
   "outputs": [],
   "source": [
    "# Here it is with only three levels\n",
    "ht.aggregate(hl.agg.counter(ht.methylation_level))"
   ]
  },
  {
   "cell_type": "code",
   "execution_count": null,
   "id": "748335af",
   "metadata": {},
   "outputs": [],
   "source": [
    "294889+1492111 # 1787000"
   ]
  },
  {
   "cell_type": "code",
   "execution_count": null,
   "id": "3bdb9361",
   "metadata": {},
   "outputs": [],
   "source": [
    "1787000/7222905 # 24.7% of those sites with a value get higher than level 0"
   ]
  },
  {
   "cell_type": "code",
   "execution_count": null,
   "id": "c8b7d9c7",
   "metadata": {},
   "outputs": [],
   "source": [
    "1787000+120331570"
   ]
  },
  {
   "cell_type": "code",
   "execution_count": null,
   "id": "450caeca",
   "metadata": {},
   "outputs": [],
   "source": [
    "ht.write('gs://my_bucket/Mutation_rates/Imported/grch38_context_vep_filter_temp7.ht')\n",
    "# Wrote table with 122118570 rows in 500 partitions\n",
    "# to gs://my_bucket/Mutation_rates/Imported/grch38_context_vep_filter_temp7.ht"
   ]
  },
  {
   "cell_type": "code",
   "execution_count": null,
   "id": "3638e20e",
   "metadata": {},
   "outputs": [],
   "source": [
    "ht = hl.read_table('gs://my_bucket/Mutation_rates/Imported/grch38_context_vep_filter_temp7.ht')\n",
    "\n",
    "ht.count() # 122,118,570"
   ]
  },
  {
   "cell_type": "code",
   "execution_count": null,
   "id": "75c9110b",
   "metadata": {},
   "outputs": [],
   "source": [
    "ht = ht.key_by('context', 'ref', 'alt', 'methylation_level')"
   ]
  },
  {
   "cell_type": "code",
   "execution_count": null,
   "id": "a58ae742",
   "metadata": {},
   "outputs": [],
   "source": [
    "ht.write('gs://my_bucket/Mutation_rates/Imported/grch38_context_vep_filter_temp8.ht')\n",
    "# Wrote table with 122118570 rows in 194 partitions\n",
    "# to gs://my_bucket/Mutation_rates/Imported/grch38_context_vep_filter_temp8.ht"
   ]
  },
  {
   "cell_type": "code",
   "execution_count": null,
   "id": "bf830276",
   "metadata": {},
   "outputs": [],
   "source": [
    "ht = hl.read_table('gs://my_bucket/Mutation_rates/Imported/grch38_context_vep_filter_temp8.ht')\n",
    "\n",
    "ht.count() # 122,118,570"
   ]
  },
  {
   "cell_type": "code",
   "execution_count": null,
   "id": "14e74080",
   "metadata": {},
   "outputs": [],
   "source": [
    "# Read back mutation rates\n",
    "mut = hl.read_table('gs://my_bucket/Mutation_rates/gnomad.v4.1.mutation_rate_with_rev_comp_2024-07-17.ht')\n",
    "\n",
    "mut.count() # 208"
   ]
  },
  {
   "cell_type": "code",
   "execution_count": null,
   "id": "f7734990",
   "metadata": {},
   "outputs": [],
   "source": [
    "# Add mutation rates to each variant in sites file\n",
    "ht = ht.annotate(mu_snp = mut[ht.key].mu_snp)"
   ]
  },
  {
   "cell_type": "code",
   "execution_count": null,
   "id": "899f6313",
   "metadata": {},
   "outputs": [],
   "source": [
    "ht.write('gs://my_bucket/Mutation_rates/Imported/grch38_context_vep_filter_temp9.ht')\n",
    "# Wrote table with 122118570 rows in 194 partitions\n",
    "# to gs://my_bucket/Mutation_rates/Imported/grch38_context_vep_filter_temp9.ht"
   ]
  },
  {
   "cell_type": "code",
   "execution_count": null,
   "id": "3d886d7a",
   "metadata": {},
   "outputs": [],
   "source": [
    "ht = hl.read_table('gs://my_bucket/Mutation_rates/Imported/grch38_context_vep_filter_temp9.ht')\n",
    "\n",
    "ht.count() # 122,118,570"
   ]
  },
  {
   "cell_type": "code",
   "execution_count": null,
   "id": "bf7d0d73",
   "metadata": {},
   "outputs": [],
   "source": [
    "ht.show()"
   ]
  },
  {
   "cell_type": "code",
   "execution_count": null,
   "id": "a14d664d",
   "metadata": {},
   "outputs": [],
   "source": [
    "ht.filter(hl.is_missing(ht.mu_snp), keep = True).count()\n",
    "\n",
    "# 6 --> OK"
   ]
  },
  {
   "cell_type": "code",
   "execution_count": null,
   "id": "fa7cbbc9",
   "metadata": {},
   "outputs": [],
   "source": [
    "# There are only 6 non-standard context values, so I'll give those the min value for mu\n",
    "ht.aggregate(hl.agg.counter(ht.context))"
   ]
  },
  {
   "cell_type": "code",
   "execution_count": null,
   "id": "fab1a410",
   "metadata": {},
   "outputs": [],
   "source": [
    "ht = ht.annotate(mu_snp = hl.if_else(hl.is_defined(ht.mu_snp), ht.mu_snp, 9.114551589132187e-10))"
   ]
  },
  {
   "cell_type": "code",
   "execution_count": null,
   "id": "4e73f278",
   "metadata": {},
   "outputs": [],
   "source": [
    "ht = ht.key_by('locus', 'alleles')"
   ]
  },
  {
   "cell_type": "code",
   "execution_count": null,
   "id": "750ef6d0",
   "metadata": {},
   "outputs": [],
   "source": [
    "ht.write('gs://my_bucket/Mutation_rates/Imported/grch38_context_vep_filter.ht')\n",
    "# Wrote table with 122118570 rows in 194 partitions\n",
    "# to gs://my_bucket/Mutation_rates/Imported/grch38_context_vep_filter.ht"
   ]
  },
  {
   "cell_type": "code",
   "execution_count": null,
   "id": "9719cbbf",
   "metadata": {},
   "outputs": [],
   "source": [
    "# Check that CPG annotation makes sense\n",
    "ht = hl.read_table('gs://my_bucket/Mutation_rates/Imported/grch38_context_vep_filter.ht')\n",
    "\n",
    "ht.count() # 122,118,570"
   ]
  },
  {
   "cell_type": "code",
   "execution_count": null,
   "id": "a2b683bf",
   "metadata": {},
   "outputs": [],
   "source": [
    "ht.filter(ht.isCPG, keep = True).count() # 2421595"
   ]
  },
  {
   "cell_type": "code",
   "execution_count": null,
   "id": "6b117851",
   "metadata": {},
   "outputs": [],
   "source": [
    "temp = ht.filter(ht.context == 'CCG', keep = True)\n",
    "\n",
    "temp.aggregate(hl.agg.counter(temp.alt))"
   ]
  },
  {
   "cell_type": "code",
   "execution_count": null,
   "id": "415752bc",
   "metadata": {},
   "outputs": [],
   "source": [
    "tempA = temp.filter(temp.alt == 'A', keep = True)\n",
    "tempG = temp.filter(temp.alt == 'G', keep = True)\n",
    "tempT = temp.filter(temp.alt == 'T', keep = True) \n",
    "# Only the C -> T should be CpG"
   ]
  },
  {
   "cell_type": "code",
   "execution_count": null,
   "id": "96c14b90",
   "metadata": {},
   "outputs": [],
   "source": [
    "a = tempA.filter(tempA.isCPG, keep = True).count()\n",
    "b = tempA.filter(hl.is_defined(tempA.methyl_mean), keep = True).count()\n",
    "c = tempA.filter(hl.is_defined(tempA.methyl_level), keep = True).count()\n",
    "d = tempA.aggregate(hl.agg.counter(tempA.methylation_level))\n",
    "\n",
    "print(a); print(b); print(c); print(d)\n",
    "# 0, 395175, 393130, {0: 395271}"
   ]
  },
  {
   "cell_type": "code",
   "execution_count": null,
   "id": "7ad206ff",
   "metadata": {},
   "outputs": [],
   "source": [
    "a = tempG.filter(tempG.isCPG, keep = True).count()\n",
    "b = tempG.filter(hl.is_defined(tempG.methyl_mean), keep = True).count()\n",
    "c = tempG.filter(hl.is_defined(tempG.methyl_level), keep = True).count()\n",
    "d = tempG.aggregate(hl.agg.counter(tempG.methylation_level))\n",
    "\n",
    "print(a); print(b); print(c); print(d)\n",
    "# 0, 395175, 393130, {0: 395271}"
   ]
  },
  {
   "cell_type": "code",
   "execution_count": null,
   "id": "b252cddf",
   "metadata": {},
   "outputs": [],
   "source": [
    "a = tempT.filter(tempT.isCPG, keep = True).count()\n",
    "b = tempT.filter(hl.is_defined(tempT.methyl_mean), keep = True).count()\n",
    "c = tempT.filter(hl.is_defined(tempT.methyl_level), keep = True).count()\n",
    "d = tempT.aggregate(hl.agg.counter(tempT.methylation_level))\n",
    "\n",
    "print(a); print(b); print(c); print(d)\n",
    "# 395271, 395175, 393130, {0: 109386, 1: 49308, 2: 236577}"
   ]
  },
  {
   "cell_type": "code",
   "execution_count": null,
   "id": "65112076",
   "metadata": {},
   "outputs": [],
   "source": [
    "ht.filter(hl.is_missing(ht.mu_snp), keep = True).count()\n",
    "\n",
    "# 0 --> OK"
   ]
  },
  {
   "cell_type": "code",
   "execution_count": null,
   "id": "1ea3c590",
   "metadata": {},
   "outputs": [],
   "source": [
    "# Proceed..."
   ]
  },
  {
   "cell_type": "code",
   "execution_count": null,
   "id": "06f777b7",
   "metadata": {},
   "outputs": [],
   "source": [
    "### Annotate with lifted-over MPC values\n",
    "\n",
    "# Import and count\n",
    "mpc = hl.read_table('gs://my_bucket/mpc.GRCh38.ht')\n",
    "mpc.count() # 66,786,545\n",
    "\n",
    "# Need to make the \"alleles\" an array\n",
    "mpc = mpc.annotate(allele_array = [mpc.alleles[0], mpc.alleles[1]])\n",
    "\n",
    "# Key it by both locus and alleles\n",
    "mpc = mpc.key_by(mpc.locus_38, mpc.allele_array)\n",
    "\n",
    "# Annotate\n",
    "ht = ht.annotate(MPC = mpc[ht.locus, ht.alleles].MPC)"
   ]
  },
  {
   "cell_type": "code",
   "execution_count": null,
   "id": "91de1443",
   "metadata": {},
   "outputs": [],
   "source": [
    "### Fix chr22 MPC annotation\n",
    "\n",
    "# Get new chr22 MPC values\n",
    "mpc_chr22 = hl.read_table('gs://my_bucket/MPC_chr22_liftover/mpc_chr22_GRCh38_2023-09-15.ht')\n",
    "\n",
    "# Get initial number of rows\n",
    "a = ht.count()\n",
    "\n",
    "# Split\n",
    "ht_chr22 = ht.filter(ht.locus.contig == 'chr22', keep = True)\n",
    "ht_other = ht.filter(ht.locus.contig != 'chr22', keep = True)\n",
    "\n",
    "# Annotate\n",
    "ht_chr22 = ht_chr22.annotate(Old_MPC = ht_chr22.MPC)\n",
    "ht_chr22 = ht_chr22.annotate(MPC = mpc_chr22[ht_chr22.key].MPC)\n",
    "\n",
    "# Check\n",
    "b = ht_chr22.filter(hl.is_defined(ht_chr22.MPC), keep = True).count()\n",
    "c = ht_chr22.filter(hl.is_defined(ht_chr22.Old_MPC), keep = True).count()\n",
    "print(b > c) # True\n",
    "\n",
    "ht_chr22 = ht_chr22.drop('Old_MPC')\n",
    "\n",
    "# Merge back and check\n",
    "ht = ht_other.union(ht_chr22)\n",
    "d = ht.count()\n",
    "print(a == d) # True"
   ]
  },
  {
   "cell_type": "code",
   "execution_count": null,
   "id": "a26bd916",
   "metadata": {},
   "outputs": [],
   "source": [
    "ht.write('gs://my_bucket/Mutation_rates/Imported/grch38_context_vep_filter_annot_temp1.ht')"
   ]
  },
  {
   "cell_type": "code",
   "execution_count": null,
   "id": "92161c66",
   "metadata": {},
   "outputs": [],
   "source": [
    "ht = hl.read_table('gs://my_bucket/Mutation_rates/Imported/grch38_context_vep_filter_annot_temp1.ht')\n",
    "\n",
    "ht.count() # 122,118,570"
   ]
  },
  {
   "cell_type": "code",
   "execution_count": null,
   "id": "1c6b1687",
   "metadata": {},
   "outputs": [],
   "source": [
    "### Annotate with gnomAD exome frequencies (gnomad v2.1.1)\n",
    "# Note the updated path\n",
    "\n",
    "# Use \"non-neuro\" allele frequencies \n",
    "gnomad_ht = hl.read_table('gs://gcp-public-data--gnomad/release/2.1.1/liftover_grch38/ht/exomes/gnomad.exomes.r2.1.1.sites.liftover_grch38.ht')\n",
    "\n",
    "# Add frequencies\n",
    "ht = ht.annotate(     gnomad_non_neuro_AF = \n",
    "                         gnomad_ht.index(ht.key).freq[hl.eval(gnomad_ht.freq_index_dict[\"non_neuro\"])].AF,\n",
    "                      gnomad_non_neuro_AF_afr = \n",
    "                         gnomad_ht.index(ht.key).freq[hl.eval(gnomad_ht.freq_index_dict[\"non_neuro_afr\"])].AF,\n",
    "                      gnomad_non_neuro_AF_amr = \n",
    "                         gnomad_ht.index(ht.key).freq[hl.eval(gnomad_ht.freq_index_dict[\"non_neuro_amr\"])].AF,\n",
    "                      gnomad_non_neuro_AF_asj = \n",
    "                         gnomad_ht.index(ht.key).freq[hl.eval(gnomad_ht.freq_index_dict[\"non_neuro_asj\"])].AF,\n",
    "                      gnomad_non_neuro_AF_eas = \n",
    "                         gnomad_ht.index(ht.key).freq[hl.eval(gnomad_ht.freq_index_dict[\"non_neuro_eas\"])].AF,\n",
    "                      gnomad_non_neuro_AF_fin = \n",
    "                         gnomad_ht.index(ht.key).freq[hl.eval(gnomad_ht.freq_index_dict[\"non_neuro_fin\"])].AF,\n",
    "                      gnomad_non_neuro_AF_nfe = \n",
    "                         gnomad_ht.index(ht.key).freq[hl.eval(gnomad_ht.freq_index_dict[\"non_neuro_nfe\"])].AF,\n",
    "                      gnomad_non_neuro_AF_oth = \n",
    "                         gnomad_ht.index(ht.key).freq[hl.eval(gnomad_ht.freq_index_dict[\"non_neuro_oth\"])].AF,\n",
    "                      gnomad_non_neuro_AF_sas = \n",
    "                         gnomad_ht.index(ht.key).freq[hl.eval(gnomad_ht.freq_index_dict[\"non_neuro_sas\"])].AF\n",
    "                      )\n",
    "\n",
    "# Set missing values to zero\n",
    "ht = ht.annotate(     gnomad_non_neuro_AF = hl.if_else(hl.is_defined(ht.gnomad_non_neuro_AF), \n",
    "                                                       ht.gnomad_non_neuro_AF, 0),\n",
    "                      gnomad_non_neuro_AF_afr = hl.if_else(hl.is_defined(ht.gnomad_non_neuro_AF_afr), \n",
    "                                                       ht.gnomad_non_neuro_AF_afr, 0),\n",
    "                      gnomad_non_neuro_AF_amr = hl.if_else(hl.is_defined(ht.gnomad_non_neuro_AF_amr), \n",
    "                                                       ht.gnomad_non_neuro_AF_amr, 0),\n",
    "                      gnomad_non_neuro_AF_asj = hl.if_else(hl.is_defined(ht.gnomad_non_neuro_AF_asj), \n",
    "                                                       ht.gnomad_non_neuro_AF_asj, 0),\n",
    "                      gnomad_non_neuro_AF_eas = hl.if_else(hl.is_defined(ht.gnomad_non_neuro_AF_eas), \n",
    "                                                       ht.gnomad_non_neuro_AF_eas, 0),\n",
    "                      gnomad_non_neuro_AF_fin = hl.if_else(hl.is_defined(ht.gnomad_non_neuro_AF_fin), \n",
    "                                                       ht.gnomad_non_neuro_AF_fin, 0),\n",
    "                      gnomad_non_neuro_AF_nfe = hl.if_else(hl.is_defined(ht.gnomad_non_neuro_AF_nfe), \n",
    "                                                       ht.gnomad_non_neuro_AF_nfe, 0),\n",
    "                      gnomad_non_neuro_AF_oth = hl.if_else(hl.is_defined(ht.gnomad_non_neuro_AF_oth), \n",
    "                                                       ht.gnomad_non_neuro_AF_oth, 0),\n",
    "                      gnomad_non_neuro_AF_sas = hl.if_else(hl.is_defined(ht.gnomad_non_neuro_AF_sas), \n",
    "                                                       ht.gnomad_non_neuro_AF_sas, 0) )\n",
    "\n",
    "# Annotate subpop max\n",
    "ht = ht.annotate(     gnomad_non_neuro_AF_popmax = hl.max(ht.gnomad_non_neuro_AF_afr, ht.gnomad_non_neuro_AF_amr, \n",
    "                                                          ht.gnomad_non_neuro_AF_asj, ht.gnomad_non_neuro_AF_eas, \n",
    "                                                          ht.gnomad_non_neuro_AF_fin, ht.gnomad_non_neuro_AF_nfe, \n",
    "                                                          ht.gnomad_non_neuro_AF_oth, ht.gnomad_non_neuro_AF_sas))\n"
   ]
  },
  {
   "cell_type": "code",
   "execution_count": null,
   "id": "073a8d2a",
   "metadata": {},
   "outputs": [],
   "source": [
    "ht.write('gs://my_bucket/Mutation_rates/Imported/grch38_context_vep_filter_annot_temp2.ht')"
   ]
  },
  {
   "cell_type": "code",
   "execution_count": null,
   "id": "f6d2aff9",
   "metadata": {},
   "outputs": [],
   "source": [
    "ht = hl.read_table('gs://my_bucket/Mutation_rates/Imported/grch38_context_vep_filter_annot_temp2.ht')\n",
    "\n",
    "ht.count() # 122,118,570"
   ]
  },
  {
   "cell_type": "code",
   "execution_count": null,
   "id": "30c5ede5",
   "metadata": {},
   "outputs": [],
   "source": [
    "ht = ht.repartition(400)\n",
    "ht.write('gs://my_bucket/Mutation_rates/Imported/grch38_context_vep_filter_annot_temp3.ht')"
   ]
  },
  {
   "cell_type": "code",
   "execution_count": null,
   "id": "deed7ad9",
   "metadata": {},
   "outputs": [],
   "source": [
    "ht = hl.read_table('gs://my_bucket/Mutation_rates/Imported/grch38_context_vep_filter_annot_temp3.ht')\n",
    "\n",
    "ht.count() # 122,118,570"
   ]
  },
  {
   "cell_type": "code",
   "execution_count": null,
   "id": "c11af73b",
   "metadata": {},
   "outputs": [],
   "source": [
    "ht = ht.drop('idx', 'a_index', 'was_split', 'old_locus', 'old_alleles', 'polyphen', 'sift', 'ref', 'alt',\n",
    "             'gnomad_non_neuro_AF_afr', 'gnomad_non_neuro_AF_amr', 'gnomad_non_neuro_AF_asj', \n",
    "             'gnomad_non_neuro_AF_eas', 'gnomad_non_neuro_AF_fin', 'gnomad_non_neuro_AF_nfe',\n",
    "             'gnomad_non_neuro_AF_oth', 'gnomad_non_neuro_AF_sas')"
   ]
  },
  {
   "cell_type": "code",
   "execution_count": null,
   "id": "d71dc94b",
   "metadata": {},
   "outputs": [],
   "source": [
    "# Get Alpha Missense (and MisFit_S) values\n",
    "am38 = hl.read_table('gs://my_bucket/ProteinStability/AlphaMissense_deduplicated_hg38_with_ps_mf_2024-05-21.ht')\n",
    "am38 = am38.key_by('locus', 'alleles')\n",
    "\n",
    "# Add values to dataset\n",
    "ht = ht.annotate(am_pathogenicity = am38[ht.key].am_pathogenicity,\n",
    "                 MisFit_S = am38[ht.key].MisFit_S)"
   ]
  },
  {
   "cell_type": "code",
   "execution_count": null,
   "id": "c6421787",
   "metadata": {},
   "outputs": [],
   "source": [
    "ht.write('gs://my_bucket/Mutation_rates/Imported/grch38_context_vep_filter_annot_temp4.ht')"
   ]
  },
  {
   "cell_type": "code",
   "execution_count": null,
   "id": "c37b5156",
   "metadata": {},
   "outputs": [],
   "source": [
    "ht = hl.read_table('gs://my_bucket/Mutation_rates/Imported/grch38_context_vep_filter_annot_temp4.ht')\n",
    "\n",
    "ht.count() # 122,118,570"
   ]
  },
  {
   "cell_type": "code",
   "execution_count": null,
   "id": "e3c34639",
   "metadata": {},
   "outputs": [],
   "source": [
    "# Get MPC_v2 (from gnomad 2.1.1) values\n",
    "mpc_v2 = hl.read_table('gs://my_bucket/mpc_gnomad_2.1.1/mpc_grch38_deduped_with_outliers_2024-04-30.ht').key_by('locus', 'alleles')\n",
    "mpc_v2 = mpc_v2.key_by('locus', 'alleles')\n",
    "\n",
    "# Add MPC_v2 values to dataset\n",
    "ht = ht.annotate(MPC_v2 = mpc_v2[ht.key].mpc,\n",
    "                 MPC_v2_Outlier = mpc_v2[ht.key].mpc_outlier)"
   ]
  },
  {
   "cell_type": "code",
   "execution_count": null,
   "id": "f50f0b0b",
   "metadata": {},
   "outputs": [],
   "source": [
    "ht.write('gs://my_bucket/Mutation_rates/Imported/grch38_context_vep_filter_annot_temp5.ht')"
   ]
  },
  {
   "cell_type": "code",
   "execution_count": null,
   "id": "6fb9e906",
   "metadata": {},
   "outputs": [],
   "source": [
    "ht = hl.read_table('gs://my_bucket/Mutation_rates/Imported/grch38_context_vep_filter_annot_temp5.ht')\n",
    "\n",
    "ht.count() # 122,118,570"
   ]
  },
  {
   "cell_type": "code",
   "execution_count": null,
   "id": "2acc172d",
   "metadata": {},
   "outputs": [],
   "source": [
    "# Print the proportion of missense sites that were annotated\n",
    "a = ht.filter(ht.isMIS, keep = True).count()\n",
    "\n",
    "b = ht.filter(ht.isMIS & hl.is_defined(ht.am_pathogenicity), keep = True).count()\n",
    "print(b/a) # 95.7%\n",
    "\n",
    "c = ht.filter(ht.isMIS & hl.is_defined(ht.MisFit_S), keep = True).count()\n",
    "print(c/a) # 93.8%\n",
    "\n",
    "d = ht.filter(ht.isMIS & hl.is_defined(ht.MPC_v2), keep = True).count()\n",
    "print(d/a) # 95.8%"
   ]
  },
  {
   "cell_type": "code",
   "execution_count": null,
   "id": "41cb2643",
   "metadata": {},
   "outputs": [],
   "source": [
    "### Annotating low-complexity regions ###\n",
    "lcr = hl.import_bed('gs://my_bucket/LCR-hs38.bed', reference_genome = 'GRCh38')\n",
    "# This file is from https://github.com/lh3/varcmp/blob/master/scripts/LCR-hs38.bed.gz"
   ]
  },
  {
   "cell_type": "code",
   "execution_count": null,
   "id": "3bb0d258",
   "metadata": {},
   "outputs": [],
   "source": [
    "# Annotate LCR\n",
    "ht = ht.annotate(inLCR = hl.is_defined(lcr[ht.locus]))\n",
    "\n",
    "ht.write('gs://my_bucket/Mutation_rates/Imported/grch38_context_vep_filter_annot_temp6.ht')"
   ]
  },
  {
   "cell_type": "code",
   "execution_count": null,
   "id": "6201d379",
   "metadata": {},
   "outputs": [],
   "source": [
    "ht = hl.read_table('gs://my_bucket/Mutation_rates/Imported/grch38_context_vep_filter_annot_temp6.ht')\n",
    "\n",
    "ht.count() # 122,118,570"
   ]
  },
  {
   "cell_type": "code",
   "execution_count": null,
   "id": "56e0c433",
   "metadata": {},
   "outputs": [],
   "source": [
    "ht.show()"
   ]
  },
  {
   "cell_type": "code",
   "execution_count": null,
   "id": "6dddf52e",
   "metadata": {},
   "outputs": [],
   "source": [
    "ht = ht.drop('vep', 'hgnc_id', 'SII', 'isSNV', 'eval_reg')"
   ]
  },
  {
   "cell_type": "code",
   "execution_count": null,
   "id": "90fffcad",
   "metadata": {},
   "outputs": [],
   "source": [
    "# Get \"other splice\" variants\n",
    "os_vars = hl.read_table('gs://my_bucket/splice/20240618_GRCh38_OS.ht')\n",
    "\n",
    "os_vars.count() # 931684"
   ]
  },
  {
   "cell_type": "code",
   "execution_count": null,
   "id": "64e02ce3",
   "metadata": {},
   "outputs": [],
   "source": [
    "ht = ht.annotate(isOS = hl.is_defined(os_vars[ht.key]))"
   ]
  },
  {
   "cell_type": "code",
   "execution_count": null,
   "id": "5a0e5410",
   "metadata": {},
   "outputs": [],
   "source": [
    "# Write fully annotated sites file\n",
    "ht.write('gs://my_bucket/Mutation_rates/Imported/grch38_context_vep_filter_annot.ht')"
   ]
  },
  {
   "cell_type": "code",
   "execution_count": null,
   "id": "0df04bb7",
   "metadata": {},
   "outputs": [],
   "source": [
    "# Read back annotated sites file\n",
    "ht = hl.read_table('gs://my_bucket/Mutation_rates/Imported/grch38_context_vep_filter_annot.ht')\n",
    "\n",
    "ht.count() # 122,118,570"
   ]
  },
  {
   "cell_type": "code",
   "execution_count": null,
   "id": "7ac3c7ff",
   "metadata": {},
   "outputs": [],
   "source": [
    "ht.show()"
   ]
  },
  {
   "cell_type": "code",
   "execution_count": null,
   "id": "ee2de9f5",
   "metadata": {},
   "outputs": [],
   "source": [
    "# Remove LCR sites\n",
    "ht = ht.filter(ht.inLCR == False, keep = True)\n",
    "\n",
    "ht.count() # 121,662,717"
   ]
  },
  {
   "cell_type": "code",
   "execution_count": null,
   "id": "463550cb",
   "metadata": {},
   "outputs": [],
   "source": [
    "121662717/122118570 # Keep 99.6% of sites"
   ]
  },
  {
   "cell_type": "code",
   "execution_count": null,
   "id": "c4a5c45b",
   "metadata": {},
   "outputs": [],
   "source": [
    "# Remove sites with popmax above 0.1%\n",
    "ht = ht.filter(ht.gnomad_non_neuro_AF_popmax <= 0.001, keep = True)\n",
    "\n",
    "ht.count() # 121,107,483"
   ]
  },
  {
   "cell_type": "code",
   "execution_count": null,
   "id": "97a76df0",
   "metadata": {},
   "outputs": [],
   "source": [
    "121107483 / 121662717 # 99.5% of non-LCR sites (99.2% of total)"
   ]
  },
  {
   "cell_type": "code",
   "execution_count": null,
   "id": "059894a1",
   "metadata": {},
   "outputs": [],
   "source": [
    "# Fix double counting\n",
    "ht = ht.annotate(isMIS = hl.if_else(ht.isPTV, False, ht.isMIS))\n",
    "ht = ht.annotate(isSYN = hl.if_else(ht.isPTV, False, ht.isSYN))\n",
    "ht = ht.annotate(isSYN = hl.if_else(ht.isMIS, False, ht.isSYN))"
   ]
  },
  {
   "cell_type": "code",
   "execution_count": null,
   "id": "38e4d167",
   "metadata": {},
   "outputs": [],
   "source": [
    "# Let's annotate exactly the categories we want\n",
    "ht = ht.annotate(isPTV_for_dn = (ht.isPTV | ht.isOS),\n",
    "                 isMis2_for_dn = (ht.isMIS & (~ht.isOS) & (ht.MPC_v2 >= 2) & (ht.am_pathogenicity >= 0.97)),\n",
    "                 isMis1_for_dn = (ht.isMIS & (~ht.isOS) & (\n",
    "                     ((ht.MPC_v2 >= 2) & ((ht.am_pathogenicity < 0.97) | hl.is_missing(ht.am_pathogenicity))) | \n",
    "                     ((ht.am_pathogenicity >= 0.97) & ((ht.MPC_v2 < 2) | hl.is_missing(ht.MPC_v2))) ) ),\n",
    "                 isMis0_for_dn = (ht.isMIS & (~ht.isOS) &\n",
    "                     ((ht.am_pathogenicity < 0.97) | hl.is_missing(ht.am_pathogenicity)) & \n",
    "                     ((ht.MPC_v2 < 2) | hl.is_missing(ht.MPC_v2)) ),\n",
    "                 isSyn_for_dn = ht.isSYN & (~ht.isOS),\n",
    "# Let's include older categories, too\n",
    "                 isMisB_for_dn = (ht.isMIS & (~ht.isOS) & (ht.MPC >= 2)),\n",
    "                 isMisA_for_dn = (ht.isMIS & (~ht.isOS) & (ht.MPC >= 1) & (ht.MPC < 2)),\n",
    "                 isMisOther_for_dn = (ht.isMIS & (~ht.isOS) & ((ht.MPC < 1) | (hl.is_missing(ht.MPC))) ))"
   ]
  },
  {
   "cell_type": "code",
   "execution_count": null,
   "id": "1f2106fc",
   "metadata": {},
   "outputs": [],
   "source": [
    "# Write annotated and prepped sites file\n",
    "ht.write('gs://my_bucket/Mutation_rates/Imported/grch38_context_vep_filter_annot_prep.ht')"
   ]
  },
  {
   "cell_type": "code",
   "execution_count": null,
   "id": "f70865f0",
   "metadata": {},
   "outputs": [],
   "source": [
    "# Read back annotated and prepped sites file\n",
    "ht = hl.read_table('gs://my_bucket/Mutation_rates/Imported/grch38_context_vep_filter_annot_prep.ht')\n",
    "\n",
    "ht.count() # 121,107,483"
   ]
  },
  {
   "cell_type": "code",
   "execution_count": null,
   "id": "af2d4ee5",
   "metadata": {},
   "outputs": [],
   "source": [
    "ht.show()"
   ]
  },
  {
   "cell_type": "code",
   "execution_count": null,
   "id": "ecbb55ca-02d1-4040-81c2-7e02f5f8ec9d",
   "metadata": {},
   "outputs": [],
   "source": [
    "# How many sites are in the autosome or PAR?\n",
    "ht.filter(ht.locus.in_autosome_or_par(), keep = True).count() # 116384981"
   ]
  },
  {
   "cell_type": "code",
   "execution_count": null,
   "id": "151abc34-ee18-4c2c-89f6-a3ff72685ba9",
   "metadata": {},
   "outputs": [],
   "source": [
    "# How many sites are chrX non-PAR?\n",
    "ht.filter(ht.locus.in_x_nonpar(), keep = True).count() # 4384120"
   ]
  },
  {
   "cell_type": "code",
   "execution_count": null,
   "id": "0d56c953-1b4e-48ad-9549-e931612fe2d0",
   "metadata": {},
   "outputs": [],
   "source": [
    "# How many sites are chrY non-PAR?\n",
    "ht.filter(ht.locus.in_y_nonpar(), keep = True).count() # 304380"
   ]
  },
  {
   "cell_type": "code",
   "execution_count": null,
   "id": "00bd8604-8699-4557-8825-970b1d1eda65",
   "metadata": {},
   "outputs": [],
   "source": [
    "# How many sites are chrM?\n",
    "ht.filter(ht.locus.in_mito(), keep = True).count() # 304380"
   ]
  },
  {
   "cell_type": "code",
   "execution_count": null,
   "id": "1d830177-dd47-49c0-9060-341a250279ab",
   "metadata": {},
   "outputs": [],
   "source": [
    "# This is all the contigs\n",
    "116384981+4384120+304380+34002 == 121107483 # True"
   ]
  },
  {
   "cell_type": "code",
   "execution_count": null,
   "id": "89e7c00a-2151-48a3-bc01-f4257b68e1c4",
   "metadata": {},
   "outputs": [],
   "source": [
    "# What do the gnomad coverage stats look like across contigs?"
   ]
  },
  {
   "cell_type": "code",
   "execution_count": null,
   "id": "a4a3f71b-51de-471e-aa0c-2264f014a3c2",
   "metadata": {},
   "outputs": [],
   "source": [
    "ht2 = ht.filter(ht.locus.in_autosome_or_par(), keep = True)\n",
    "\n",
    "ht2.aggregate(hl.agg.stats(ht2.coverage_mean)) # Mean 30.95"
   ]
  },
  {
   "cell_type": "code",
   "execution_count": null,
   "id": "d898b598-e850-4e6b-b2e1-49927cbca610",
   "metadata": {},
   "outputs": [],
   "source": [
    "ht2 = ht.filter(ht.locus.in_x_nonpar(), keep = True)\n",
    "\n",
    "ht2.aggregate(hl.agg.stats(ht2.coverage_mean)) # Mean 22.98"
   ]
  },
  {
   "cell_type": "code",
   "execution_count": null,
   "id": "2154ecf8-3c02-4479-8c35-48ba84926e3c",
   "metadata": {},
   "outputs": [],
   "source": [
    "ht2 = ht.filter(ht.locus.in_y_nonpar(), keep = True)\n",
    "\n",
    "ht2.aggregate(hl.agg.stats(ht2.coverage_mean)) # Mean 8.45"
   ]
  },
  {
   "cell_type": "code",
   "execution_count": null,
   "id": "6bffd127-547e-4bfd-8b5b-a740cdfe8876",
   "metadata": {},
   "outputs": [],
   "source": [
    "ht2 = ht.filter(ht.locus.in_mito(), keep = True)\n",
    "\n",
    "ht2.aggregate(hl.agg.stats(ht2.coverage_mean)) # Mean NaN --> I'll lose all the chrM loci if filter on coverage"
   ]
  },
  {
   "cell_type": "code",
   "execution_count": null,
   "id": "45e3a188-4cbb-4695-a99b-77db5c34f53c",
   "metadata": {},
   "outputs": [],
   "source": [
    "# What proportion of sites pass a threshold of 10 (or 7)?"
   ]
  },
  {
   "cell_type": "code",
   "execution_count": null,
   "id": "90cfbe94-3aeb-4887-9660-12250a34c921",
   "metadata": {},
   "outputs": [],
   "source": [
    "ht2 = ht.filter(ht.locus.in_autosome_or_par(), keep = True)\n",
    "\n",
    "ht2.filter(ht2.coverage_mean >= 10, keep = True).count() / ht2.count() # 98.7%"
   ]
  },
  {
   "cell_type": "code",
   "execution_count": null,
   "id": "110ea76a-193c-4d88-b32f-8176972c68a5",
   "metadata": {},
   "outputs": [],
   "source": [
    "ht2 = ht.filter(ht.locus.in_x_nonpar(), keep = True)\n",
    "\n",
    "ht2.filter(ht2.coverage_mean >= 10, keep = True).count() / ht2.count() # 95.2%"
   ]
  },
  {
   "cell_type": "code",
   "execution_count": null,
   "id": "8c8155aa-bf82-4d89-8e11-787dd56482e5",
   "metadata": {},
   "outputs": [],
   "source": [
    "ht2 = ht.filter(ht.locus.in_x_nonpar(), keep = True)\n",
    "\n",
    "ht2.filter(ht2.coverage_mean >= 7, keep = True).count() / ht2.count() # 95.5%"
   ]
  },
  {
   "cell_type": "code",
   "execution_count": null,
   "id": "21571539-f579-42d5-9a18-d5eba1488b03",
   "metadata": {},
   "outputs": [],
   "source": [
    "ht2 = ht.filter(ht.locus.in_x_nonpar(), keep = True)\n",
    "\n",
    "ht2.filter(ht2.coverage_mean >= 1, keep = True).count() / ht2.count() # 99.0%"
   ]
  },
  {
   "cell_type": "code",
   "execution_count": null,
   "id": "38fb10d4-3d2a-426d-80e2-887d07f26fde",
   "metadata": {},
   "outputs": [],
   "source": [
    "ht2 = ht.filter(ht.locus.in_y_nonpar(), keep = True)\n",
    "\n",
    "ht2.filter(ht2.coverage_mean >= 10, keep = True).count() / ht2.count() # 50.8%"
   ]
  },
  {
   "cell_type": "code",
   "execution_count": null,
   "id": "3c1eb472-87f2-43f0-9df7-5cace4c3b65e",
   "metadata": {},
   "outputs": [],
   "source": [
    "ht2 = ht.filter(ht.locus.in_y_nonpar(), keep = True)\n",
    "\n",
    "ht2.filter(ht2.coverage_mean >= 7, keep = True).count() / ht2.count() # 52.5%"
   ]
  },
  {
   "cell_type": "code",
   "execution_count": null,
   "id": "44ad8067-9606-4971-b214-079dca80abe3",
   "metadata": {},
   "outputs": [],
   "source": [
    "ht2 = ht.filter(ht.locus.in_y_nonpar(), keep = True)\n",
    "\n",
    "ht2.filter(ht2.coverage_mean >= 1, keep = True).count() / ht2.count() # 79.8%"
   ]
  },
  {
   "cell_type": "code",
   "execution_count": null,
   "id": "6d2eb236-a5b1-4ab1-81d0-3e4bb2c40f67",
   "metadata": {},
   "outputs": [],
   "source": [
    "ht2 = ht.filter(ht.locus.in_mito(), keep = True)\n",
    "\n",
    "ht2.filter(ht2.coverage_mean >= 1, keep = True).count() / ht2.count() # 0"
   ]
  },
  {
   "cell_type": "code",
   "execution_count": null,
   "id": "f30e4f90-7208-4a6b-b98b-f40eafe85063",
   "metadata": {},
   "outputs": [],
   "source": [
    "# Let's do a single read for non-PAR X, non-PAR Y, and mito"
   ]
  },
  {
   "cell_type": "code",
   "execution_count": null,
   "id": "014be6cd-0788-4a53-bf15-cae23de04625",
   "metadata": {},
   "outputs": [],
   "source": [
    "# Filter on coverage so that sites that are poorly covered in gnomad to not play into our expectations\n",
    "ht = ht.filter( ( ( ht.locus.in_autosome_or_par() ) & (ht.coverage_mean >= 10) ) |\n",
    "                ( (~ht.locus.in_autosome_or_par() ) & (ht.coverage_mean >= 1 ) ), keep = True)\n",
    "\n",
    "ht.count() # 119,419,563 (98.6% of 121,107,483)"
   ]
  },
  {
   "cell_type": "code",
   "execution_count": null,
   "id": "df95cebb-816b-484e-ad0c-742754d302e4",
   "metadata": {},
   "outputs": [],
   "source": [
    "# Now continue... sum mutation rate values by gene and variant type"
   ]
  },
  {
   "cell_type": "code",
   "execution_count": null,
   "id": "1d5b6340",
   "metadata": {},
   "outputs": [],
   "source": [
    "ht = ht.drop('vep_config', 'grange', 'vep_help')"
   ]
  },
  {
   "cell_type": "code",
   "execution_count": null,
   "id": "25e1e053-47d6-4f8a-8434-9c420bf69d4f",
   "metadata": {},
   "outputs": [],
   "source": [
    "# Do a whole bunch of aggregations\n",
    "var_list = ht.filter(ht.isPTV_for_dn, keep = True)\n",
    "\n",
    "PTV_table = (var_list.group_by(var_list.gene_id).aggregate(\n",
    "    gene = hl.agg.take(var_list.gene, 1)[0],\n",
    "    chrom = hl.agg.take(var_list.locus.contig, 1)[0],\n",
    "    mu_snp_PTV = hl.agg.sum(var_list.mu_snp) ))\n",
    "\n",
    "var_list = ht.filter(ht.isMis2_for_dn, keep = True)\n",
    "\n",
    "Mis2_table = (var_list.group_by(var_list.gene_id).aggregate(\n",
    "    gene = hl.agg.take(var_list.gene, 1)[0],\n",
    "    chrom = hl.agg.take(var_list.locus.contig, 1)[0],\n",
    "    mu_snp_Mis2 = hl.agg.sum(var_list.mu_snp) ))\n",
    "\n",
    "var_list = ht.filter(ht.isMis1_for_dn, keep = True)\n",
    "\n",
    "Mis1_table = (var_list.group_by(var_list.gene_id).aggregate(\n",
    "    gene = hl.agg.take(var_list.gene, 1)[0],\n",
    "    chrom = hl.agg.take(var_list.locus.contig, 1)[0],\n",
    "    mu_snp_Mis1 = hl.agg.sum(var_list.mu_snp) ))\n",
    "\n",
    "var_list = ht.filter(ht.isMis0_for_dn, keep = True)\n",
    "\n",
    "Mis0_table = (var_list.group_by(var_list.gene_id).aggregate(\n",
    "    gene = hl.agg.take(var_list.gene, 1)[0],\n",
    "    chrom = hl.agg.take(var_list.locus.contig, 1)[0],\n",
    "    mu_snp_Mis0 = hl.agg.sum(var_list.mu_snp) ))\n",
    "\n",
    "var_list = ht.filter(ht.isSyn_for_dn, keep = True)\n",
    "\n",
    "Syn_table = (var_list.group_by(var_list.gene_id).aggregate(\n",
    "    gene = hl.agg.take(var_list.gene, 1)[0],\n",
    "    chrom = hl.agg.take(var_list.locus.contig, 1)[0],\n",
    "    mu_snp_Syn = hl.agg.sum(var_list.mu_snp) ))\n",
    "\n",
    "var_list = ht.filter(ht.isMisB_for_dn, keep = True)\n",
    "\n",
    "MisB_table = (var_list.group_by(var_list.gene_id).aggregate(\n",
    "    gene = hl.agg.take(var_list.gene, 1)[0],\n",
    "    chrom = hl.agg.take(var_list.locus.contig, 1)[0],\n",
    "    mu_snp_MisB = hl.agg.sum(var_list.mu_snp) ))\n",
    "\n",
    "var_list = ht.filter(ht.isMisA_for_dn, keep = True)\n",
    "\n",
    "MisA_table = (var_list.group_by(var_list.gene_id).aggregate(\n",
    "    gene = hl.agg.take(var_list.gene, 1)[0],\n",
    "    chrom = hl.agg.take(var_list.locus.contig, 1)[0],\n",
    "    mu_snp_MisA = hl.agg.sum(var_list.mu_snp) ))\n",
    "\n",
    "var_list = ht.filter(ht.isMisOther_for_dn, keep = True)\n",
    "\n",
    "MisOther_table = (var_list.group_by(var_list.gene_id).aggregate(\n",
    "    gene = hl.agg.take(var_list.gene, 1)[0],\n",
    "    chrom = hl.agg.take(var_list.locus.contig, 1)[0],\n",
    "    mu_snp_MisOther = hl.agg.sum(var_list.mu_snp) ))"
   ]
  },
  {
   "cell_type": "code",
   "execution_count": null,
   "id": "6f725c1e-9a7e-441c-a05d-6a7280164ebf",
   "metadata": {},
   "outputs": [],
   "source": [
    "# Do a whole bunch of joins\n",
    "\n",
    "# Join PTV & Mis2\n",
    "all_table = PTV_table.join(Mis2_table, how = 'outer')\n",
    "\n",
    "all_table = all_table.annotate(gene = hl.if_else(hl.is_missing(all_table.gene), all_table.gene_1, all_table.gene),\n",
    "                               chrom = hl.if_else(hl.is_missing(all_table.chrom), all_table.chrom_1, all_table.chrom))\n",
    "all_table = all_table.drop('gene_1', 'chrom_1')\n",
    "\n",
    "# Add Mis1\n",
    "all_table = all_table.join(Mis1_table, how = 'outer')\n",
    "\n",
    "all_table = all_table.annotate(gene = hl.if_else(hl.is_missing(all_table.gene), all_table.gene_1, all_table.gene),\n",
    "                               chrom = hl.if_else(hl.is_missing(all_table.chrom), all_table.chrom_1, all_table.chrom))\n",
    "all_table = all_table.drop('gene_1', 'chrom_1')\n",
    "\n",
    "# Add Mis0\n",
    "all_table = all_table.join(Mis0_table, how = 'outer')\n",
    "\n",
    "all_table = all_table.annotate(gene = hl.if_else(hl.is_missing(all_table.gene), all_table.gene_1, all_table.gene),\n",
    "                               chrom = hl.if_else(hl.is_missing(all_table.chrom), all_table.chrom_1, all_table.chrom))\n",
    "all_table = all_table.drop('gene_1', 'chrom_1')\n",
    "\n",
    "# Add Syn\n",
    "all_table = all_table.join(Syn_table, how = 'outer')\n",
    "\n",
    "all_table = all_table.annotate(gene = hl.if_else(hl.is_missing(all_table.gene), all_table.gene_1, all_table.gene),\n",
    "                               chrom = hl.if_else(hl.is_missing(all_table.chrom), all_table.chrom_1, all_table.chrom))\n",
    "all_table = all_table.drop('gene_1', 'chrom_1')\n",
    "\n",
    "# Add MisB\n",
    "all_table = all_table.join(MisB_table, how = 'outer')\n",
    "\n",
    "all_table = all_table.annotate(gene = hl.if_else(hl.is_missing(all_table.gene), all_table.gene_1, all_table.gene),\n",
    "                               chrom = hl.if_else(hl.is_missing(all_table.chrom), all_table.chrom_1, all_table.chrom))\n",
    "all_table = all_table.drop('gene_1', 'chrom_1')\n",
    "\n",
    "# Add MisA\n",
    "all_table = all_table.join(MisA_table, how = 'outer')\n",
    "\n",
    "all_table = all_table.annotate(gene = hl.if_else(hl.is_missing(all_table.gene), all_table.gene_1, all_table.gene),\n",
    "                               chrom = hl.if_else(hl.is_missing(all_table.chrom), all_table.chrom_1, all_table.chrom))\n",
    "all_table = all_table.drop('gene_1', 'chrom_1')\n",
    "\n",
    "# Add MisOther\n",
    "all_table = all_table.join(MisOther_table, how = 'outer')\n",
    "\n",
    "all_table = all_table.annotate(gene = hl.if_else(hl.is_missing(all_table.gene), all_table.gene_1, all_table.gene),\n",
    "                               chrom = hl.if_else(hl.is_missing(all_table.chrom), all_table.chrom_1, all_table.chrom))\n",
    "all_table = all_table.drop('gene_1', 'chrom_1')\n"
   ]
  },
  {
   "cell_type": "code",
   "execution_count": null,
   "id": "c40f24cb-92d5-4c9a-955f-73aa97864409",
   "metadata": {},
   "outputs": [],
   "source": [
    "all_table.write('gs://my_bucket/Mutation_rates/Imported/ASD_mutation_rates_draft_temp1_2024-07-24.ht')"
   ]
  },
  {
   "cell_type": "code",
   "execution_count": null,
   "id": "1cd4460b-5e3d-437c-8d3d-f908d8d27b42",
   "metadata": {},
   "outputs": [],
   "source": [
    "ht = hl.read_table('gs://my_bucket/Mutation_rates/Imported/ASD_mutation_rates_draft_temp1_2024-07-24.ht')\n",
    "\n",
    "ht.count() # 29,380"
   ]
  },
  {
   "cell_type": "code",
   "execution_count": null,
   "id": "d6f3cc75-b114-4e3d-92e3-02126b75f529",
   "metadata": {},
   "outputs": [],
   "source": [
    "ht = ht.filter(hl.is_defined(ht.gene_id), keep = True)"
   ]
  },
  {
   "cell_type": "code",
   "execution_count": null,
   "id": "ef6137af-2b57-474a-8d0b-0f5d0e8cdb81",
   "metadata": {},
   "outputs": [],
   "source": [
    "ht = ht.annotate(mu_snp_PTV = hl.if_else(hl.is_missing(ht.mu_snp_PTV), 0, ht.mu_snp_PTV),\n",
    "                 mu_snp_Mis2 = hl.if_else(hl.is_missing(ht.mu_snp_Mis2), 0, ht.mu_snp_Mis2),\n",
    "                 mu_snp_Mis1 = hl.if_else(hl.is_missing(ht.mu_snp_Mis1), 0, ht.mu_snp_Mis1),\n",
    "                 mu_snp_Mis0 = hl.if_else(hl.is_missing(ht.mu_snp_Mis0), 0, ht.mu_snp_Mis0),\n",
    "                 mu_snp_Syn = hl.if_else(hl.is_missing(ht.mu_snp_Syn), 0, ht.mu_snp_Syn),\n",
    "                 mu_snp_MisB = hl.if_else(hl.is_missing(ht.mu_snp_MisB), 0, ht.mu_snp_MisB),\n",
    "                 mu_snp_MisA = hl.if_else(hl.is_missing(ht.mu_snp_MisA), 0, ht.mu_snp_MisA),\n",
    "                 mu_snp_MisOther = hl.if_else(hl.is_missing(ht.mu_snp_MisOther), 0, ht.mu_snp_MisOther) )"
   ]
  },
  {
   "cell_type": "code",
   "execution_count": null,
   "id": "bab18d89",
   "metadata": {},
   "outputs": [],
   "source": [
    "ht.write('gs://my_bucket/Mutation_rates/Imported/ASD_mutation_rates_draft_temp2_2024-07-24.ht')"
   ]
  },
  {
   "cell_type": "code",
   "execution_count": null,
   "id": "f66b722d-ee49-4883-b446-d331d8b9c310",
   "metadata": {},
   "outputs": [],
   "source": [
    "ht = hl.read_table('gs://my_bucket/Mutation_rates/Imported/ASD_mutation_rates_draft_temp2_2024-07-24.ht')\n",
    "\n",
    "ht.count() # 29,379"
   ]
  },
  {
   "cell_type": "code",
   "execution_count": null,
   "id": "7f9e13da-9269-4291-8d5a-886f94e76225",
   "metadata": {},
   "outputs": [],
   "source": [
    "ht = ht.repartition(5)"
   ]
  },
  {
   "cell_type": "code",
   "execution_count": null,
   "id": "a0d01e40-5f95-4e79-95d7-170d79d2c8ef",
   "metadata": {},
   "outputs": [],
   "source": [
    "# Write final Hail table\n",
    "ht.write('gs://my_bucket/Mutation_rates/Imported/ASD_mutation_rates_draft_2024-07-24.ht')"
   ]
  },
  {
   "cell_type": "code",
   "execution_count": null,
   "id": "a9da684b-7807-45ae-8ed8-87334a4e07ce",
   "metadata": {},
   "outputs": [],
   "source": [
    "ht = hl.read_table('gs://my_bucket/Mutation_rates/Imported/ASD_mutation_rates_draft_2024-07-24.ht')\n",
    "\n",
    "ht.count() # 29,379"
   ]
  },
  {
   "cell_type": "code",
   "execution_count": null,
   "id": "9285075d-2470-4412-b2ba-657f6b658562",
   "metadata": {},
   "outputs": [],
   "source": [
    "ht.show()"
   ]
  },
  {
   "cell_type": "code",
   "execution_count": null,
   "id": "0ca84003-981c-456a-88c2-cdb62ad518ee",
   "metadata": {},
   "outputs": [],
   "source": [
    "ht.export('gs://my_bucket/Mutation_rates/Imported/ASD_mutation_rates_draft_2024-07-24.txt')\n",
    "# Note that further formatting occurred in R"
   ]
  }
 ],
 "metadata": {
  "kernelspec": {
   "display_name": "Python 3 (ipykernel)",
   "language": "python",
   "name": "python3"
  },
  "language_info": {
   "codemirror_mode": {
    "name": "ipython",
    "version": 3
   },
   "file_extension": ".py",
   "mimetype": "text/x-python",
   "name": "python",
   "nbconvert_exporter": "python",
   "pygments_lexer": "ipython3",
   "version": "3.12.9"
  }
 },
 "nbformat": 4,
 "nbformat_minor": 5
}
